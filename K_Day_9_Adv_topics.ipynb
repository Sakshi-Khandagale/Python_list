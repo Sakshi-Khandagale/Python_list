{
  "nbformat": 4,
  "nbformat_minor": 0,
  "metadata": {
    "colab": {
      "provenance": []
    },
    "kernelspec": {
      "name": "python3",
      "display_name": "Python 3"
    },
    "language_info": {
      "name": "python"
    }
  },
  "cells": [
    {
      "cell_type": "code",
      "execution_count": null,
      "metadata": {
        "id": "zdNyhNBGzGTV"
      },
      "outputs": [],
      "source": [
        "Detect the Type of Triangle\n",
        "Problem Statement:\n",
        "Given three sides of a triangle, determine its type. The program should classify the triangle as one of the following:\n",
        "\n",
        "Equilateral Triangle – All three sides are equal.\n",
        "Isosceles Triangle – Exactly two sides are equal.\n",
        "Scalene Triangle – All three sides are different.\n",
        "Not a Triangle – The given sides do not satisfy the triangle inequality theorem:\n",
        "a+b>c,b+c>a,a+c>b\n",
        "Input:\n",
        "Three integers or floating-point numbers representing the sides of a triangle.\n",
        "\n",
        "Output:\n",
        "A string indicating the type of triangle or stating that the sides do not form a valid triangle.\n",
        "\n",
        "Example Cases:\n",
        "Example 1: Equilateral Triangle\n",
        "Input: 3, 3, 3\n",
        "Output: \"Equilateral Triangle\"\n",
        "\n",
        "Example 2: Isosceles Triangle\n",
        "Input: 5, 5, 8\n",
        "Output: \"Isosceles Triangle\"\n",
        "\n",
        "Example 3: Scalene Triangle\n",
        "Input: 4, 5, 6\n",
        "Output: \"Scalene Triangle\"\n",
        "\n",
        "Example 4: Not a Triangle\n",
        "Input: 1, 2, 3\n",
        "Output: \"Not a Triangle\""
      ]
    },
    {
      "cell_type": "code",
      "source": [
        "Happy Number\n",
        "Problem Statement:\n",
        "A number is called a Happy Number if, by repeatedly replacing the number with the sum of the squares of its digits, we eventually reach 1. If the process results in a loop that does not include 1, the number is considered unhappy (or sad).\n",
        "\n",
        "Steps to Determine a Happy Number:\n",
        "Take a number n and replace it with the sum of the squares of its digits.\n",
        "Repeat the process until:\n",
        "The number becomes 1 (in which case it is happy).\n",
        "The number starts repeating (forming a cycle), meaning it will never reach 1 (in which case it is unhappy).\n",
        "Input:\n",
        "An integer n (where n > 0).\n",
        "\n",
        "Output:\n",
        "A boolean or string indicating whether the number is happy or not."
      ],
      "metadata": {
        "id": "LOzBB3RljOOw"
      },
      "execution_count": null,
      "outputs": []
    },
    {
      "cell_type": "markdown",
      "source": [
        "Example 1: Happy Number\n",
        "Input: 19\n",
        "Process:\n",
        "1\n",
        "2\n",
        "+\n",
        "9\n",
        "2\n",
        "=\n",
        "1\n",
        "+\n",
        "81\n",
        "=\n",
        "82\n",
        "1\n",
        "2\n",
        " +9\n",
        "2\n",
        " =1+81=82 →\n",
        "8\n",
        "2\n",
        "+\n",
        "2\n",
        "2\n",
        "=\n",
        "64\n",
        "+\n",
        "4\n",
        "=\n",
        "68\n",
        "8\n",
        "2\n",
        " +2\n",
        "2\n",
        " =64+4=68 →\n",
        "6\n",
        "2\n",
        "+\n",
        "8\n",
        "2\n",
        "=\n",
        "36\n",
        "+\n",
        "64\n",
        "=\n",
        "100\n",
        "6\n",
        "2\n",
        " +8\n",
        "2\n",
        " =36+64=100 →\n",
        "1\n",
        "2\n",
        "+\n",
        "0\n",
        "2\n",
        "+\n",
        "0\n",
        "2\n",
        "=\n",
        "1\n",
        "1\n",
        "2\n",
        " +0\n",
        "2\n",
        " +0\n",
        "2\n",
        " =1 ✅ (Happy Number)"
      ],
      "metadata": {
        "id": "z2_fQPVGkCg7"
      }
    },
    {
      "cell_type": "code",
      "source": [
        "def happy_or_not(no):\n",
        "    no=str(no)\n",
        "    sum=0\n",
        "    for digit in no:\n",
        "        sum+=int(digit)**2\n",
        "    print(sum)\n",
        "    if sum==1:\n",
        "        return True\n",
        "    elif sum<10:\n",
        "        return False\n",
        "    else:\n",
        "        return happy_or_not(sum)\n"
      ],
      "metadata": {
        "id": "RRPYTnk2jv-M"
      },
      "execution_count": null,
      "outputs": []
    },
    {
      "cell_type": "code",
      "source": [
        "if happy_or_not(82):\n",
        "    print(\"Happy number\")\n",
        "else:\n",
        "    print(\"Un-happy number\")"
      ],
      "metadata": {
        "colab": {
          "base_uri": "https://localhost:8080/"
        },
        "id": "6EYmUra3mRw5",
        "outputId": "61a19ce3-47cc-47fa-b9d1-7f617e5c2538"
      },
      "execution_count": null,
      "outputs": [
        {
          "output_type": "stream",
          "name": "stdout",
          "text": [
            "68\n",
            "100\n",
            "1\n",
            "Happy number\n"
          ]
        }
      ]
    },
    {
      "cell_type": "code",
      "source": [
        "#check number is part of fibonacci or not\n",
        "#if so return true else false\n",
        "#0 1 1 2 3 5 8 13.......\n",
        "#input:8 True\n",
        "#input:12 False\n",
        "def fibo_part(no):\n",
        "    f0,f1,=0,1\n",
        "    if no==0 or no==1:\n",
        "        return True\n",
        "    while True:\n",
        "        fn=f0+f1\n",
        "        print(\"checking:\",fn)\n",
        "        if fn==no:\n",
        "            return True\n",
        "        elif fn>no:\n",
        "            return False\n",
        "        f0,f1=f1,fn\n"
      ],
      "metadata": {
        "id": "Mj7Q89A1nfDz"
      },
      "execution_count": null,
      "outputs": []
    },
    {
      "cell_type": "code",
      "source": [
        "fibo_part(7)"
      ],
      "metadata": {
        "colab": {
          "base_uri": "https://localhost:8080/"
        },
        "id": "rO7XGP01v0gU",
        "outputId": "26e8e7ba-e042-463d-c0c3-2e2e1333e032"
      },
      "execution_count": null,
      "outputs": [
        {
          "output_type": "stream",
          "name": "stdout",
          "text": [
            "checking: 1\n",
            "checking: 2\n",
            "checking: 3\n",
            "checking: 5\n",
            "checking: 8\n"
          ]
        },
        {
          "output_type": "execute_result",
          "data": {
            "text/plain": [
              "False"
            ]
          },
          "metadata": {},
          "execution_count": 19
        }
      ]
    },
    {
      "cell_type": "code",
      "source": [
        "'''\n",
        "Python Lambda:function without any name/id\n",
        "it is use a throw function\n",
        "var=lambda <arg>: <operation>\n",
        "'''\n",
        "doubler=lambda a:a*2\n",
        "multi=lambda a,b:a*b"
      ],
      "metadata": {
        "id": "NQbcbbpCwfoP"
      },
      "execution_count": null,
      "outputs": []
    },
    {
      "cell_type": "code",
      "source": [
        "doubler(3.134)"
      ],
      "metadata": {
        "colab": {
          "base_uri": "https://localhost:8080/"
        },
        "id": "hYykPzkew2BV",
        "outputId": "290b89ca-df40-4721-a45a-d41fb7ece738"
      },
      "execution_count": null,
      "outputs": [
        {
          "output_type": "execute_result",
          "data": {
            "text/plain": [
              "6.268"
            ]
          },
          "metadata": {},
          "execution_count": 24
        }
      ]
    },
    {
      "cell_type": "code",
      "source": [
        "multi(10,20)"
      ],
      "metadata": {
        "colab": {
          "base_uri": "https://localhost:8080/"
        },
        "id": "SkPGCV40xFC2",
        "outputId": "39f27eea-c297-4fe8-eb88-d38f929717b3"
      },
      "execution_count": null,
      "outputs": [
        {
          "output_type": "execute_result",
          "data": {
            "text/plain": [
              "200"
            ]
          },
          "metadata": {},
          "execution_count": 26
        }
      ]
    },
    {
      "cell_type": "code",
      "source": [
        "fruits = [\"apple\", \"banana\", \"cherry\", \"kiwi\", \"mango\"]\n",
        "list2=[]\n",
        "for fruit in fruits:\n",
        "    if \"a\" in fruit:\n",
        "        list2.append(fruit)\n"
      ],
      "metadata": {
        "id": "Aaooemtf37EM"
      },
      "execution_count": null,
      "outputs": []
    },
    {
      "cell_type": "code",
      "source": [
        "print(list2)"
      ],
      "metadata": {
        "colab": {
          "base_uri": "https://localhost:8080/"
        },
        "id": "1ty6Pmkb4Qu9",
        "outputId": "a8de5bfb-b4cb-4f0c-f7b5-2714ddbfe68f"
      },
      "execution_count": null,
      "outputs": [
        {
          "output_type": "stream",
          "name": "stdout",
          "text": [
            "['apple', 'banana', 'mango']\n"
          ]
        }
      ]
    },
    {
      "cell_type": "code",
      "source": [
        "[ expression for in <list/tuple/dict/set> codition]"
      ],
      "metadata": {
        "id": "AP_BDBC64SwH"
      },
      "execution_count": null,
      "outputs": []
    },
    {
      "cell_type": "code",
      "source": [
        "list_a=[fruit for fruit in fruits if \"a\" in fruit]"
      ],
      "metadata": {
        "id": "IBJilNFX4gAM"
      },
      "execution_count": null,
      "outputs": []
    },
    {
      "cell_type": "code",
      "source": [
        "list_a"
      ],
      "metadata": {
        "colab": {
          "base_uri": "https://localhost:8080/"
        },
        "id": "xRa9-Vlj40uQ",
        "outputId": "13e8fe04-6d1e-43ec-a57c-cd4779a5ef88"
      },
      "execution_count": null,
      "outputs": [
        {
          "output_type": "execute_result",
          "data": {
            "text/plain": [
              "['apple', 'banana', 'mango']"
            ]
          },
          "metadata": {},
          "execution_count": 31
        }
      ]
    },
    {
      "cell_type": "code",
      "source": [
        "list_1=[1,2,3,4,5,6,7,8,9]\n",
        "list_even=[item for item in list_1 if item%2==0]\n",
        "list_odd=[item for item in list_1 if item%2==1]"
      ],
      "metadata": {
        "id": "q1L0tIUK46IR"
      },
      "execution_count": null,
      "outputs": []
    },
    {
      "cell_type": "code",
      "source": [
        "list_1=[i for i in range(1,21,2)]"
      ],
      "metadata": {
        "id": "4qzEY1pP5oXm"
      },
      "execution_count": null,
      "outputs": []
    },
    {
      "cell_type": "code",
      "source": [
        "list_1"
      ],
      "metadata": {
        "colab": {
          "base_uri": "https://localhost:8080/"
        },
        "id": "qFp6VMzs5toe",
        "outputId": "f6159a2f-004a-4cbb-8f25-e30dd1fe827b"
      },
      "execution_count": null,
      "outputs": [
        {
          "output_type": "execute_result",
          "data": {
            "text/plain": [
              "[1, 3, 5, 7, 9, 11, 13, 15, 17, 19]"
            ]
          },
          "metadata": {},
          "execution_count": 36
        }
      ]
    },
    {
      "cell_type": "code",
      "source": [
        "the_list=[11,42,99,66,55,33,77,66,22,45,67]\n",
        "#use minimum code to generate list with numbers < AVG\n",
        "new_list=[i for i in the_list if i<sum(the_list)/len(the_list)]\n",
        "print(new_list)"
      ],
      "metadata": {
        "colab": {
          "base_uri": "https://localhost:8080/"
        },
        "id": "ZeyL11Yv52vP",
        "outputId": "f560ab8a-d39c-4428-f1a7-0b6e264f66e5"
      },
      "execution_count": null,
      "outputs": [
        {
          "output_type": "stream",
          "name": "stdout",
          "text": [
            "[11, 42, 33, 22, 45]\n"
          ]
        }
      ]
    },
    {
      "cell_type": "code",
      "source": [
        "#scalar mutiplication by n\n",
        "#i*list[]\n",
        "list1=[1,2,3,4,5,6]\n",
        "n=int(input(\"Enter n:\"))\n",
        "list2=[i*n for i in list1]\n",
        "#list1*2--->[2,4,6,8,10,12]\n",
        "print(list2)\n"
      ],
      "metadata": {
        "colab": {
          "base_uri": "https://localhost:8080/"
        },
        "id": "IStwkeqs6lPj",
        "outputId": "16b1d21a-2503-4634-f62f-de471c4de317"
      },
      "execution_count": null,
      "outputs": [
        {
          "output_type": "stream",
          "name": "stdout",
          "text": [
            "Enter n:2\n",
            "[2, 4, 6, 8, 10, 12]\n"
          ]
        }
      ]
    },
    {
      "cell_type": "code",
      "source": [
        "list1=[1,2,3,4,5,6]\n",
        "list2=[2,4,6,8,10,12]\n",
        "#mutiply both\n",
        "mutiplied_list=[a*b for a,b in zip(list1,list2)]"
      ],
      "metadata": {
        "id": "fQqPs8vb7vFS"
      },
      "execution_count": null,
      "outputs": []
    },
    {
      "cell_type": "code",
      "source": [
        "mutiplied_list"
      ],
      "metadata": {
        "colab": {
          "base_uri": "https://localhost:8080/"
        },
        "id": "tqOiSLXK8Fm4",
        "outputId": "95832413-00b2-4ad9-8466-3ebea25934f7"
      },
      "execution_count": null,
      "outputs": [
        {
          "output_type": "execute_result",
          "data": {
            "text/plain": [
              "[2, 8, 18, 32, 50, 72]"
            ]
          },
          "metadata": {},
          "execution_count": 42
        }
      ]
    },
    {
      "cell_type": "code",
      "source": [
        "indian_names = [\"Aarav\", \"Vihaan\", \"Ishaan\", \"Kabir\", \"Advait\",\n",
        "                \"Ananya\", \"Siya\", \"Myra\", \"Tanvi\", \"Riya\"]\n",
        "print([name.upper() for name in indian_names])"
      ],
      "metadata": {
        "colab": {
          "base_uri": "https://localhost:8080/"
        },
        "id": "4NCK4B9g8ZvA",
        "outputId": "081c1427-a57f-4c23-982a-02297b4494be"
      },
      "execution_count": null,
      "outputs": [
        {
          "output_type": "stream",
          "name": "stdout",
          "text": [
            "['AARAV', 'VIHAAN', 'ISHAAN', 'KABIR', 'ADVAIT', 'ANANYA', 'SIYA', 'MYRA', 'TANVI', 'RIYA']\n"
          ]
        }
      ]
    },
    {
      "cell_type": "code",
      "source": [
        ".join():ony works on string core type list/tuple/set/dict but iff they have string"
      ],
      "metadata": {
        "id": "RCKLjTeN82j6"
      },
      "execution_count": null,
      "outputs": []
    },
    {
      "cell_type": "code",
      "source": [
        "\"seprator\".join(sequence)"
      ],
      "metadata": {
        "id": "Eup0pk-R9EEs"
      },
      "execution_count": null,
      "outputs": []
    },
    {
      "cell_type": "code",
      "source": [
        "list1=['a','m','a','r']\n",
        "print(\"\".join(list1))"
      ],
      "metadata": {
        "colab": {
          "base_uri": "https://localhost:8080/"
        },
        "id": "2Q-buz1N9RSj",
        "outputId": "b3495c8b-0a36-47f2-ac92-9dc57de41ddb"
      },
      "execution_count": null,
      "outputs": [
        {
          "output_type": "stream",
          "name": "stdout",
          "text": [
            "amar\n"
          ]
        }
      ]
    },
    {
      "cell_type": "code",
      "source": [
        "set1={\"hi\",\"hukku\",\"aa\",\"bbb\"}\n",
        "print(\"\".join(set1))"
      ],
      "metadata": {
        "colab": {
          "base_uri": "https://localhost:8080/"
        },
        "id": "GM_VV4Dn9dYw",
        "outputId": "3eb6fb6b-f3e8-4635-e101-a88ddaba76b8"
      },
      "execution_count": null,
      "outputs": [
        {
          "output_type": "stream",
          "name": "stdout",
          "text": [
            "hukkubbbaahi\n"
          ]
        }
      ]
    },
    {
      "cell_type": "code",
      "source": [
        "dict1={\"one\":1,\"two\":2,\"three\":3}\n",
        "print(\"-\".join(dict1))#only keys"
      ],
      "metadata": {
        "colab": {
          "base_uri": "https://localhost:8080/"
        },
        "id": "ZsQjrESs9zwv",
        "outputId": "f4e22d9e-654f-46b7-a737-5ffb051af514"
      },
      "execution_count": null,
      "outputs": [
        {
          "output_type": "stream",
          "name": "stdout",
          "text": [
            "one-two-three\n"
          ]
        }
      ]
    },
    {
      "cell_type": "code",
      "source": [
        "list1=['a','m','a','r']\n",
        "print(\"--------\".join(list1))"
      ],
      "metadata": {
        "colab": {
          "base_uri": "https://localhost:8080/"
        },
        "id": "g2_gc8-6-AVn",
        "outputId": "7c149260-b1b5-4943-aca2-b2d8cbefec18"
      },
      "execution_count": null,
      "outputs": [
        {
          "output_type": "stream",
          "name": "stdout",
          "text": [
            "a--------m--------a--------r\n"
          ]
        }
      ]
    },
    {
      "cell_type": "code",
      "source": [
        "list2=[1,2,3,4,5,6]\n",
        "print(\"\".join([str(item) for item in list2]))"
      ],
      "metadata": {
        "colab": {
          "base_uri": "https://localhost:8080/"
        },
        "id": "3pr_apg0-TEm",
        "outputId": "e72dc3cb-82e0-4b51-901e-5ec2727430fa"
      },
      "execution_count": null,
      "outputs": [
        {
          "output_type": "stream",
          "name": "stdout",
          "text": [
            "123456\n"
          ]
        }
      ]
    },
    {
      "cell_type": "code",
      "source": [
        "#map(function,sequence)\n",
        "#apply function on each item of sequence\n",
        "s=['1','2','3','4']\n",
        "s_int=list(map(int,s))\n",
        "print(s_int)"
      ],
      "metadata": {
        "colab": {
          "base_uri": "https://localhost:8080/"
        },
        "id": "GJCoO3iJ_StZ",
        "outputId": "9fbef199-2d00-4190-acc3-fbdbc62a7edc"
      },
      "execution_count": null,
      "outputs": [
        {
          "output_type": "stream",
          "name": "stdout",
          "text": [
            "[1, 2, 3, 4]\n"
          ]
        }
      ]
    },
    {
      "cell_type": "code",
      "source": [
        "def my_fun(data):\n",
        "    return f\"Accessed by my_fun:{data}\"\n"
      ],
      "metadata": {
        "colab": {
          "base_uri": "https://localhost:8080/",
          "height": 36
        },
        "id": "kJxOwR9H_5WV",
        "outputId": "e605fa11-b15d-47b3-856f-4d709f6aef42"
      },
      "execution_count": null,
      "outputs": [
        {
          "output_type": "execute_result",
          "data": {
            "text/plain": [
              "'Accessed by my_fun:10'"
            ],
            "application/vnd.google.colaboratory.intrinsic+json": {
              "type": "string"
            }
          },
          "metadata": {},
          "execution_count": 63
        }
      ]
    },
    {
      "cell_type": "code",
      "source": [
        "data=list(map(my_fun,s_int))\n",
        "print(data)"
      ],
      "metadata": {
        "colab": {
          "base_uri": "https://localhost:8080/"
        },
        "id": "i2uLHjsUAC3U",
        "outputId": "604c1f9c-d5ad-47b5-d65b-b4987bfe5de9"
      },
      "execution_count": null,
      "outputs": [
        {
          "output_type": "stream",
          "name": "stdout",
          "text": [
            "['Accessed by my_fun:1', 'Accessed by my_fun:2', 'Accessed by my_fun:3', 'Accessed by my_fun:4']\n"
          ]
        }
      ]
    },
    {
      "cell_type": "code",
      "source": [
        "s_int"
      ],
      "metadata": {
        "colab": {
          "base_uri": "https://localhost:8080/"
        },
        "id": "qCYHr_MmA6wp",
        "outputId": "876c0a03-5c2a-47c1-d853-2646ee8520fc"
      },
      "execution_count": null,
      "outputs": [
        {
          "output_type": "execute_result",
          "data": {
            "text/plain": [
              "[1, 2, 3, 4]"
            ]
          },
          "metadata": {},
          "execution_count": 67
        }
      ]
    },
    {
      "cell_type": "code",
      "source": [
        "s_list2=list(map(lambda x:x*2,s_int))"
      ],
      "metadata": {
        "id": "nZbK8kuIA9hN"
      },
      "execution_count": null,
      "outputs": []
    },
    {
      "cell_type": "code",
      "source": [
        "s_list2"
      ],
      "metadata": {
        "colab": {
          "base_uri": "https://localhost:8080/"
        },
        "id": "U2ol-PaLBMot",
        "outputId": "63c0e5db-8787-45e4-8c4d-5281c036d084"
      },
      "execution_count": null,
      "outputs": [
        {
          "output_type": "execute_result",
          "data": {
            "text/plain": [
              "[2, 4, 6, 8]"
            ]
          },
          "metadata": {},
          "execution_count": 69
        }
      ]
    },
    {
      "cell_type": "code",
      "source": [
        "l1=[1,2,3,4]\n",
        "l2=[10,20,30,40]\n",
        "adder=lambda a,b:a+b\n",
        "print(adder(l1,l2))\n",
        "print(list(map(lambda a,b:a+b,l1,l2)))"
      ],
      "metadata": {
        "colab": {
          "base_uri": "https://localhost:8080/"
        },
        "id": "iAqHAzMXBTSb",
        "outputId": "d05a94d8-e143-4905-bf9b-f513f0b12fda"
      },
      "execution_count": null,
      "outputs": [
        {
          "output_type": "stream",
          "name": "stdout",
          "text": [
            "[1, 2, 3, 4, 10, 20, 30, 40]\n",
            "[11, 22, 33, 44]\n"
          ]
        }
      ]
    }
  ]
}